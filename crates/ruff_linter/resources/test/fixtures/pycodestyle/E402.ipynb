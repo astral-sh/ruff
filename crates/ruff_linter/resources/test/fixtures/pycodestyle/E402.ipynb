{
 "cells": [
  {
   "cell_type": "code",
   "execution_count": 1,
   "id": "33faf7ad-a3fd-4ac4-a0c3-52e507ed49df",
   "metadata": {},
   "outputs": [],
   "source": [
    "import sys\n",
    "\n",
    "sys.path"
   ]
  },
  {
   "cell_type": "code",
   "execution_count": null,
   "id": "1331140f-2741-4661-9086-0764368710c9",
   "metadata": {},
   "outputs": [],
   "source": []
  },
  {
   "cell_type": "code",
   "execution_count": null,
   "id": "a4113383-725d-4f04-80b8-a3080b2b8c4b",
   "metadata": {},
   "outputs": [],
   "source": [
    "import os\n",
    "\n",
    "os.path\n",
    "\n",
    "import pathlib"
   ]
  },
  {
   "cell_type": "code",
   "execution_count": null,
   "id": "a5d2ef63-ae60-4311-bae3-42e845afba3f",
   "metadata": {},
   "outputs": [],
   "source": []
  },
  {
   "cell_type": "code",
   "execution_count": null,
   "id": "79599475-a5ee-4f60-80d1-6efa77693da0",
   "metadata": {},
   "outputs": [],
   "source": [
    "import a\n",
    "\n",
    "try:\n",
    "    import b\n",
    "except ImportError:\n",
    "    pass\n",
    "else:\n",
    "    pass\n",
    "\n",
    "__some__magic = 1\n",
    "\n",
    "import c"
   ]
  },
  {
   "cell_type": "code",
   "execution_count": null,
   "id": "863dcc35-5c8d-4d05-8b4a-91059e944112",
   "metadata": {},
   "outputs": [],
   "source": [
    "import ok\n",
    "\n",
    "\n",
    "def foo() -> None:\n",
    "    import e\n",
    "\n",
    "\n",
    "import no_ok"
   ]
  },
  {
   "cell_type": "code",
   "execution_count": null,
   "id": "6b2377d0-b814-4057-83ec-d443d8e19401",
   "metadata": {},
   "outputs": [],
   "source": []
  },
  {
   "cell_type": "code",
   "execution_count": null,
   "id": "a51463ee-091c-44b4-9069-c03bf7e3bf83",
   "metadata": {},
   "outputs": [],
   "source": [
    "%%time\n",
    "import pathlib"
   ]
  },
  {
   "cell_type": "code",
   "execution_count": null,
   "id": "0ddc937e-6c19-475f-b108-9405aa1af4f1",
   "metadata": {},
   "outputs": [],
   "source": []
  },
  {
   "cell_type": "code",
   "execution_count": null,
   "id": "285041d2-a76c-4ff3-8ff2-0131bbf66016",
   "metadata": {},
   "outputs": [],
   "source": [
    "%%time\n",
    "%%time\n",
    "import pathlib"
   ]
  }
 ],
 "metadata": {
  "kernelspec": {
   "display_name": "Python (ruff-playground)",
   "language": "python",
   "name": "ruff-playground"
  },
  "language_info": {
   "codemirror_mode": {
    "name": "ipython",
    "version": 3
   },
   "file_extension": ".py",
   "mimetype": "text/x-python",
   "name": "python",
   "nbconvert_exporter": "python",
   "pygments_lexer": "ipython3",
   "version": "3.11.3"
  }
 },
 "nbformat": 4,
 "nbformat_minor": 5
}
