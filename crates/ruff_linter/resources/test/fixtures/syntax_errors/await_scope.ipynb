{
 "cells": [
  {
   "cell_type": "code",
   "execution_count": null,
   "id": "071bef14-c2b5-48d7-8e01-39f16f06328f",
   "metadata": {},
   "outputs": [],
   "source": [
    "await 1  # runtime TypeError but not a syntax error"
   ]
  },
  {
   "cell_type": "code",
   "execution_count": null,
   "id": "b4eaebd3-0fae-4e4c-9509-19ae6f743a08",
   "metadata": {},
   "outputs": [],
   "source": [
    "def _():\n",
    "    await 1  # SyntaxError: await outside async function"
   ]
  },
  {
   "cell_type": "code",
   "execution_count": null,
   "id": "bf10b4ac-41c2-4daa-8862-9ee3386667ee",
   "metadata": {},
   "outputs": [],
   "source": [
    "class _:\n",
    "    await 1  # SyntaxError: await outside function"
   ]
  }
 ],
 "metadata": {
  "kernelspec": {
   "display_name": "Python 3 (ipykernel)",
   "language": "python",
   "name": "python3"
  },
  "language_info": {
   "codemirror_mode": {
    "name": "ipython",
    "version": 3
   },
   "file_extension": ".py",
   "mimetype": "text/x-python",
   "name": "python",
   "nbconvert_exporter": "python",
   "pygments_lexer": "ipython3",
   "version": "3.13.2"
  }
 },
 "nbformat": 4,
 "nbformat_minor": 5
}
