{
 "cells": [
  {
   "cell_type": "code",
   "execution_count": null,
   "id": "cad32845-44f9-4a53-8b8c-a6b1bb3f3378",
   "metadata": {},
   "outputs": [],
   "source": [
    "import math\n",
    "\n",
    "%matplotlib inline\n",
    "\n",
    "\n",
    "_ = math.pi"
   ]
  },
  {
   "cell_type": "code",
   "execution_count": null,
   "id": "d7b8e967-8b4a-493b-b6f7-d5cecfb3a5c3",
   "metadata": {},
   "outputs": [],
   "source": [
    "%%timeit\n",
    "import sys"
   ]
  }
 ],
 "metadata": {
  "kernelspec": {
   "display_name": "Python (ruff)",
   "language": "python",
   "name": "ruff"
  },
  "language_info": {
   "codemirror_mode": {
    "name": "ipython",
    "version": 3
   },
   "file_extension": ".py",
   "mimetype": "text/x-python",
   "name": "python",
   "nbconvert_exporter": "python",
   "pygments_lexer": "ipython3",
   "version": "3.11.3"
  }
 },
 "nbformat": 4,
 "nbformat_minor": 5
}
