{
 "cells": [
  {
   "cell_type": "code",
   "execution_count": null,
   "id": "663ba955-baca-4f34-9ebb-840d2573ae3f",
   "metadata": {},
   "outputs": [],
   "source": [
    "import math\n",
    "import random\n",
    "from pathlib import Path"
   ]
  },
  {
   "cell_type": "code",
   "execution_count": null,
   "id": "d0adfe23-8aea-47e9-bf67-d856cfcb96ea",
   "metadata": {},
   "outputs": [],
   "source": [
    "import collections\n",
    "from typing import Any\n",
    "\n",
    "\n",
    "# Newline should be added here\n",
    "def foo():\n",
    "    pass"
   ]
  },
  {
   "cell_type": "code",
   "execution_count": null,
   "id": "6d6c55c6-4a34-4662-914b-4ee11c9c24a5",
   "metadata": {},
   "outputs": [],
   "source": [
    "import sys\n",
    "from pathlib import Path\n",
    "\n",
    "%matplotlib \\\n",
    "    --inline\n",
    "\n",
    "import abc\n",
    "import math"
   ]
  }
 ],
 "metadata": {
  "kernelspec": {
   "display_name": "Python (ruff)",
   "language": "python",
   "name": "ruff"
  },
  "language_info": {
   "codemirror_mode": {
    "name": "ipython",
    "version": 3
   },
   "file_extension": ".py",
   "mimetype": "text/x-python",
   "name": "python",
   "nbconvert_exporter": "python",
   "pygments_lexer": "ipython3",
   "version": "3.11.3"
  }
 },
 "nbformat": 4,
 "nbformat_minor": 5
}
