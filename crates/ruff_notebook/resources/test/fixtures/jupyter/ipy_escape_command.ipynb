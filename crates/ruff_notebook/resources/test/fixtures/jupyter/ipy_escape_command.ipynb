{
 "cells": [
  {
   "cell_type": "code",
   "execution_count": null,
   "id": "eab4754a-d6df-4b41-8ee8-7e23aef440f9",
   "metadata": {},
   "outputs": [],
   "source": [
    "import math\n",
    "\n",
    "%matplotlib inline\n",
    "\n",
    "import os\n",
    "\n",
    "_ = math.pi"
   ]
  },
  {
   "cell_type": "code",
   "execution_count": null,
   "id": "2b0e2986-1b87-4bb6-9b1d-c11ca1decd87",
   "metadata": {},
   "outputs": [],
   "source": [
    "%%timeit\n",
    "import sys"
   ]
  }
 ],
 "metadata": {
  "kernelspec": {
   "display_name": "Python (ruff)",
   "language": "python",
   "name": "ruff"
  },
  "language_info": {
   "codemirror_mode": {
    "name": "ipython",
    "version": 3
   },
   "file_extension": ".py",
   "mimetype": "text/x-python",
   "name": "python",
   "nbconvert_exporter": "python",
   "pygments_lexer": "ipython3",
   "version": "3.11.3"
  }
 },
 "nbformat": 4,
 "nbformat_minor": 5
}
