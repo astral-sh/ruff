{
 "cells": [
  {
   "cell_type": "code",
   "execution_count": null,
   "id": "a0efffbc-85f1-4513-bf49-5387ec3a2a4e",
   "metadata": {},
   "outputs": [],
   "source": [
    "def f():\n",
    "    foo1 = %matplotlib --list\n",
    "    foo2: list[str] = %matplotlib --list"
   ]
  },
  {
   "cell_type": "code",
   "execution_count": null,
   "id": "6e0b2b50-43f2-4f59-951d-9404dd560ae4",
   "metadata": {},
   "outputs": [],
   "source": [
    "def f():\n",
    "    bar1 = !pwd\n",
    "    bar2: str = !pwd"
   ]
  }
 ],
 "metadata": {
  "kernelspec": {
   "display_name": "Python (ruff)",
   "language": "python",
   "name": "ruff"
  },
  "language_info": {
   "codemirror_mode": {
    "name": "ipython",
    "version": 3
   },
   "file_extension": ".py",
   "mimetype": "text/x-python",
   "name": "python",
   "nbconvert_exporter": "python",
   "pygments_lexer": "ipython3",
   "version": "3.11.3"
  }
 },
 "nbformat": 4,
 "nbformat_minor": 5
}
