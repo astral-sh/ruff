{
 "cells": [
  {
   "cell_type": "code",
   "execution_count": null,
   "id": "24426ef2-046c-453e-b809-05b56e7355e0",
   "metadata": {},
   "outputs": [],
   "source": [
    "def f():\n",
    "    %matplotlib --list\n",
    "    %matplotlib --list"
   ]
  },
  {
   "cell_type": "code",
   "execution_count": null,
   "id": "3d98fdae-b86b-476e-b4db-9d3ce5562682",
   "metadata": {},
   "outputs": [],
   "source": [
    "def f():\n",
    "    !pwd\n",
    "    !pwd"
   ]
  }
 ],
 "metadata": {
  "kernelspec": {
   "display_name": "Python (ruff)",
   "language": "python",
   "name": "ruff"
  },
  "language_info": {
   "codemirror_mode": {
    "name": "ipython",
    "version": 3
   },
   "file_extension": ".py",
   "mimetype": "text/x-python",
   "name": "python",
   "nbconvert_exporter": "python",
   "pygments_lexer": "ipython3",
   "version": "3.11.3"
  }
 },
 "nbformat": 4,
 "nbformat_minor": 5
}
