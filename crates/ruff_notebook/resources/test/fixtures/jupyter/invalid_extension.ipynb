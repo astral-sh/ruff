#!/usr/bin/env python
# coding: utf-8

# In[1]:


def unused_variable():
    x = 1
    y = 2
    print(f"cell one: {y}")

unused_variable()


# Let's do another mistake

# In[2]:


def mutable_argument(z=set()):
  print(f"cell two: {z}")

mutable_argument()

