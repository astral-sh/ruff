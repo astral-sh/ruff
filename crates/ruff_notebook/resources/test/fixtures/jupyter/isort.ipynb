{
 "cells": [
  {
   "cell_type": "code",
   "execution_count": null,
   "id": "0c7535f6-43cb-423f-bfe1-d263b8f55da0",
   "metadata": {},
   "outputs": [],
   "source": [
    "from pathlib import Path\n",
    "import random\n",
    "import math"
   ]
  },
  {
   "cell_type": "code",
   "execution_count": null,
   "id": "c066fa1a-5682-47af-8c17-5afec3cf4ad0",
   "metadata": {},
   "outputs": [],
   "source": [
    "from typing import Any\n",
    "import collections\n",
    "# Newline should be added here\n",
    "def foo():\n",
    "    pass"
   ]
  },
  {
   "cell_type": "code",
   "execution_count": null,
   "id": "16214f6f-bb32-4594-81be-79fb27c6ec92",
   "metadata": {},
   "outputs": [],
   "source": [
    "from pathlib import Path\n",
    "import sys\n",
    "\n",
    "%matplotlib \\\n",
    "    --inline\n",
    "\n",
    "import math\n",
    "import abc"
   ]
  }
 ],
 "metadata": {
  "kernelspec": {
   "display_name": "Python (ruff)",
   "language": "python",
   "name": "ruff"
  },
  "language_info": {
   "codemirror_mode": {
    "name": "ipython",
    "version": 3
   },
   "file_extension": ".py",
   "mimetype": "text/x-python",
   "name": "python",
   "nbconvert_exporter": "python",
   "pygments_lexer": "ipython3",
   "version": "3.11.3"
  }
 },
 "nbformat": 4,
 "nbformat_minor": 5
}
