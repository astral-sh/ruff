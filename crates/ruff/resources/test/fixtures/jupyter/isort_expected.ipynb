{
 "cells": [
  {
   "cell_type": "code",
   "execution_count": null,
   "id": "663ba955-baca-4f34-9ebb-840d2573ae3f",
   "metadata": {},
   "outputs": [],
   "source": [
    "import math\n",
    "import random\n",
    "from pathlib import Path"
   ]
  },
  {
   "cell_type": "code",
   "execution_count": null,
   "id": "d0adfe23-8aea-47e9-bf67-d856cfcb96ea",
   "metadata": {},
   "outputs": [],
   "source": [
    "import collections\n",
    "from typing import Any\n",
    "\n",
    "\n",
    "# Newline should be added here\n",
    "def foo():\n",
    "    pass"
   ]
  }
 ],
 "metadata": {
  "kernelspec": {
   "display_name": "Python (ruff)",
   "language": "python",
   "name": "ruff"
  },
  "language_info": {
   "codemirror_mode": {
    "name": "ipython",
    "version": 3
   },
   "file_extension": ".py",
   "mimetype": "text/x-python",
   "name": "python",
   "nbconvert_exporter": "python",
   "pygments_lexer": "ipython3",
   "version": "3.11.3"
  }
 },
 "nbformat": 4,
 "nbformat_minor": 5
}
