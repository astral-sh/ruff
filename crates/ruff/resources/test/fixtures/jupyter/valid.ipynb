{
 "cells": [
  {
   "cell_type": "code",
   "execution_count": 1,
   "outputs": [
    {
     "name": "stdout",
     "output_type": "stream",
     "text": [
      "cell one: 2\n"
     ]
    }
   ],
   "source": [
    "def unused_variable():\n",
    "    x = 1\n",
    "    y = 2\n",
    "    print(f\"cell one: {y}\")\n",
    "\n",
    "unused_variable()"
   ],
   "metadata": {
    "collapsed": false,
    "ExecuteTime": {
     "start_time": "2023-03-08T23:01:09.705831Z",
     "end_time": "2023-03-08T23:01:09.782916Z"
    }
   }
  },
  {
   "cell_type": "markdown",
   "source": [
    "Let's do another mistake"
   ],
   "metadata": {
    "collapsed": false
   }
  },
  {
   "cell_type": "code",
   "execution_count": 2,
   "metadata": {
    "collapsed": true,
    "ExecuteTime": {
     "start_time": "2023-03-08T23:01:09.733809Z",
     "end_time": "2023-03-08T23:01:09.915760Z"
    }
   },
   "outputs": [
    {
     "name": "stdout",
     "output_type": "stream",
     "text": [
      "cell two: set()\n"
     ]
    }
   ],
   "source": [
    "def mutable_argument(z=set()):\n",
    "  print(f\"cell two: {z}\")\n",
    "\n",
    "mutable_argument()\n"
   ]
  }
 ],
 "metadata": {
  "kernelspec": {
   "display_name": "Python 3",
   "language": "python",
   "name": "python3"
  },
  "language_info": {
   "codemirror_mode": {
    "name": "ipython",
    "version": 2
   },
   "file_extension": ".py",
   "mimetype": "text/x-python",
   "name": "python",
   "nbconvert_exporter": "python",
   "pygments_lexer": "ipython2",
   "version": "2.7.6"
  }
 },
 "nbformat": 4,
 "nbformat_minor": 0
}
