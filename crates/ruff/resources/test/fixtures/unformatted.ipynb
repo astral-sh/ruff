{
 "cells": [
  {
   "cell_type": "code",
   "execution_count": null,
   "id": "98e1dd71-14a2-454d-9be0-061dde560b07",
   "metadata": {},
   "outputs": [],
   "source": [
    "import numpy\n",
    "maths = (numpy.arange(100)**2).sum()\n",
    "stats= numpy.asarray([1,2,3,4]).median()"
   ]
  },
  {
   "cell_type": "markdown",
   "id": "83a0b1b8",
   "metadata": {},
   "source": [
    "A markdown cell"
   ]
  },
  {
   "cell_type": "code",
   "execution_count": null,
   "id": "ae12f012",
   "metadata": {},
   "outputs": [],
   "source": [
    "# A cell with IPython escape command\n",
    "def some_function(foo, bar):\n",
    "    pass\n",
    "%matplotlib inline"
   ]
  },
  {
   "cell_type": "code",
   "execution_count": null,
   "id": "10f3bbf9",
   "metadata": {},
   "outputs": [],
   "source": [
    "foo = %pwd\n",
    "def some_function(foo,bar,):\n",
    "    # Another cell with IPython escape command\n",
    "    foo = %pwd\n",
    "    print(foo)"
   ]
  }
 ],
 "metadata": {
  "kernelspec": {
   "display_name": "Python 3 (ipykernel)",
   "language": "python",
   "name": "python3"
  },
  "language_info": {
   "codemirror_mode": {
    "name": "ipython",
    "version": 3
   },
   "file_extension": ".py",
   "mimetype": "text/x-python",
   "name": "python",
   "nbconvert_exporter": "python",
   "pygments_lexer": "ipython3",
   "version": "3.10.12"
  }
 },
 "nbformat": 4,
 "nbformat_minor": 5
}
